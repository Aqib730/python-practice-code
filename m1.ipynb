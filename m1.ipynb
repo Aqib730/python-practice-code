{
 "cells": [
  {
   "cell_type": "code",
   "execution_count": null,
   "metadata": {},
   "outputs": [],
   "source": [
    "#conditional statements\n",
    " #if elif else"
   ]
  },
  {
   "cell_type": "code",
   "execution_count": 10,
   "metadata": {},
   "outputs": [
    {
     "name": "stdout",
     "output_type": "stream",
     "text": [
      "you get B grade\n"
     ]
    }
   ],
   "source": [
    "#write a program to assign grades according to input student number\n",
    "num=int(input(\"enter your marks=\"))\n",
    "if num>=90:\n",
    "    print(\"you get A grade\")\n",
    "elif num>=80:\n",
    "    print(\"you get B grade\")\n",
    "elif num>=70:\n",
    "     print(\"you gat C grade\")\n",
    "elif num>=60:\n",
    "     print(\"you get D grade\")\n",
    "else:\n",
    "     print(\"sorry you are fail in exam\")\n"
   ]
  },
  {
   "cell_type": "code",
   "execution_count": 3,
   "metadata": {},
   "outputs": [
    {
     "name": "stdout",
     "output_type": "stream",
     "text": [
      "a and b are equals\n"
     ]
    }
   ],
   "source": [
    "a=50\n",
    "b=50\n",
    "if a>b:\n",
    "    print(\"a is greater than b\")\n",
    "elif a==b:\n",
    "    print(\"a and b are equals\")\n",
    "else:\n",
    "    print(\"b is less than a\")"
   ]
  },
  {
   "cell_type": "code",
   "execution_count": 6,
   "metadata": {},
   "outputs": [
    {
     "name": "stdout",
     "output_type": "stream",
     "text": [
      "the number is positive\n"
     ]
    }
   ],
   "source": [
    "num=12\n",
    "if num>=0:\n",
    "    print(\"the number is positive\")\n",
    "elif num<0:\n",
    "    print(\"the number is negative\")\n",
    "else:\n",
    "    print(\"invalid numbers\")"
   ]
  }
 ],
 "metadata": {
  "kernelspec": {
   "display_name": "Python 3",
   "language": "python",
   "name": "python3"
  },
  "language_info": {
   "codemirror_mode": {
    "name": "ipython",
    "version": 3
   },
   "file_extension": ".py",
   "mimetype": "text/x-python",
   "name": "python",
   "nbconvert_exporter": "python",
   "pygments_lexer": "ipython3",
   "version": "3.12.3"
  }
 },
 "nbformat": 4,
 "nbformat_minor": 2
}
