{
 "cells": [
  {
   "cell_type": "code",
   "execution_count": 3,
   "metadata": {},
   "outputs": [
    {
     "name": "stdout",
     "output_type": "stream",
     "text": [
      "you get the reward\n"
     ]
    }
   ],
   "source": [
    "buy=5\n",
    "get=1\n",
    "if buy>=3:\n",
    "    print(\"you get the reward\")\n"
   ]
  },
  {
   "cell_type": "code",
   "execution_count": 4,
   "metadata": {},
   "outputs": [
    {
     "name": "stdout",
     "output_type": "stream",
     "text": [
      "you pass the exam\n"
     ]
    }
   ],
   "source": [
    "marks=55\n",
    "if marks>=35:\n",
    "    print(\"you pass the exam\")"
   ]
  },
  {
   "cell_type": "code",
   "execution_count": 5,
   "metadata": {},
   "outputs": [
    {
     "name": "stdout",
     "output_type": "stream",
     "text": [
      "your total salary\n",
      "your total salary= 5500\n"
     ]
    }
   ],
   "source": [
    "salary=5000\n",
    "bonus=500\n",
    "if salary>=4000:\n",
    "  com=salary+bonus\n",
    "  print(\"your total salary\")\n",
    "print(\"your total salary=\",com)"
   ]
  },
  {
   "cell_type": "code",
   "execution_count": 6,
   "metadata": {},
   "outputs": [
    {
     "name": "stdout",
     "output_type": "stream",
     "text": [
      "a is greater than b\n"
     ]
    }
   ],
   "source": [
    "a=12\n",
    "if a>=10:\n",
    "    print(\"a is greater than b\")"
   ]
  },
  {
   "cell_type": "code",
   "execution_count": 2,
   "metadata": {},
   "outputs": [
    {
     "name": "stdout",
     "output_type": "stream",
     "text": [
      "you are adult\n"
     ]
    }
   ],
   "source": [
    "age=30\n",
    "if age>=18:\n",
    "    print(\"you are adult\")\n",
    "else:\n",
    "    print(\"you are child\")"
   ]
  },
  {
   "cell_type": "code",
   "execution_count": 9,
   "metadata": {},
   "outputs": [
    {
     "name": "stdout",
     "output_type": "stream",
     "text": [
      "number is positive\n"
     ]
    }
   ],
   "source": [
    "num=12\n",
    "if num>0:\n",
    "    print(\"number is positive\")"
   ]
  },
  {
   "cell_type": "code",
   "execution_count": 10,
   "metadata": {},
   "outputs": [
    {
     "name": "stdout",
     "output_type": "stream",
     "text": [
      "you get the reward\n"
     ]
    }
   ],
   "source": [
    "buy=5\n",
    "get=1\n",
    "if buy>=3:\n",
    "    print(\"you get the reward\")\n",
    "else:\n",
    "    print(\"you can't get any reward\")"
   ]
  },
  {
   "cell_type": "code",
   "execution_count": 11,
   "metadata": {},
   "outputs": [
    {
     "name": "stdout",
     "output_type": "stream",
     "text": [
      "you get A grade\n"
     ]
    }
   ],
   "source": [
    "num=95\n",
    "if num>=90:\n",
    "    print(\"you get A grade\")\n",
    "elif num>=80:\n",
    "    print(\"you get B grade\")\n",
    "elif num>=70:\n",
    "     print(\"you gat C grade\")\n",
    "elif num>=60:\n",
    "     print(\"you get D grade\")\n",
    "else:\n",
    "     print(\"sorry you are fail in exam\")"
   ]
  }
 ],
 "metadata": {
  "kernelspec": {
   "display_name": "Python 3",
   "language": "python",
   "name": "python3"
  },
  "language_info": {
   "codemirror_mode": {
    "name": "ipython",
    "version": 3
   },
   "file_extension": ".py",
   "mimetype": "text/x-python",
   "name": "python",
   "nbconvert_exporter": "python",
   "pygments_lexer": "ipython3",
   "version": "3.12.3"
  }
 },
 "nbformat": 4,
 "nbformat_minor": 2
}
