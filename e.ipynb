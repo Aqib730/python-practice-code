{
 "cells": [
  {
   "cell_type": "code",
   "execution_count": 1,
   "metadata": {},
   "outputs": [
    {
     "name": "stdout",
     "output_type": "stream",
     "text": [
      "hello, world\n"
     ]
    }
   ],
   "source": [
    "#print hello,world\n",
    "print('hello, world')"
   ]
  },
  {
   "cell_type": "code",
   "execution_count": 11,
   "metadata": {},
   "outputs": [
    {
     "name": "stdout",
     "output_type": "stream",
     "text": [
      "the sum of 10 and 20 is 30\n"
     ]
    }
   ],
   "source": [
    "#python program for adding two numbers\n",
    "a=10\n",
    "b=20\n",
    "sum=a+b\n",
    "print('the sum of {} and {} is {}'.format(a,b,sum))"
   ]
  },
  {
   "cell_type": "code",
   "execution_count": 12,
   "metadata": {},
   "outputs": [
    {
     "name": "stdout",
     "output_type": "stream",
     "text": [
      "the square root of 16 is 4.0\n"
     ]
    }
   ],
   "source": [
    "#python program for square root\n",
    "num=int(input(\"enter number\"))\n",
    "sqrt=num**0.5\n",
    "print(f'the square root of {num} is {sqrt}')\n"
   ]
  },
  {
   "cell_type": "code",
   "execution_count": 2,
   "metadata": {},
   "outputs": [
    {
     "name": "stdout",
     "output_type": "stream",
     "text": [
      "the area of triangle sides4,8,and10 is 15.198684153570664\n"
     ]
    }
   ],
   "source": [
    "#python program for finding area of triangle\n",
    "import math\n",
    "def area_of_triangle_sides(a,b,c):\n",
    "    s=(a+b+c)/2\n",
    "    return math.sqrt(s*(s-a)*(s-b)*(s-c))\n",
    "a=int(input('enter number'))\n",
    "b=int(input('enter number'))\n",
    "c=int(input('enter number'))\n",
    "area=area_of_triangle_sides(a,b,c)\n",
    "print(f'the area of triangle sides{a},{b},and {c} is {area}')\n"
   ]
  },
  {
   "cell_type": "code",
   "execution_count": 4,
   "metadata": {},
   "outputs": [
    {
     "name": "stdout",
     "output_type": "stream",
     "text": [
      "the quadratic equation of 1, 5,6 is (-5.5+0j) and (-4.5+0j)\n"
     ]
    }
   ],
   "source": [
    "#python program for solving quadratic equation\n",
    "import cmath\n",
    "a=1\n",
    "b=5\n",
    "c=6\n",
    "d=(b**2)-(4*a*c)\n",
    "sol1=-b-(cmath.sqrt(d))/2*a\n",
    "sol2=-b+(cmath.sqrt(d))/2*a\n",
    "print(f'the quadratic equation of {a}, {b},{c} is {sol1} and {sol2}')"
   ]
  },
  {
   "cell_type": "code",
   "execution_count": 5,
   "metadata": {},
   "outputs": [
    {
     "name": "stdout",
     "output_type": "stream",
     "text": [
      "there is 5000 meters in 5 kilometers\n"
     ]
    }
   ],
   "source": [
    "#python program for converting kilometers into meters\n",
    "km=5\n",
    "m=km*1000\n",
    "print(f'there is {m} meters in {km} kilometers')"
   ]
  },
  {
   "cell_type": "code",
   "execution_count": 6,
   "metadata": {},
   "outputs": [
    {
     "name": "stdout",
     "output_type": "stream",
     "text": [
      "the temprature at 45 celsius is 113.0 fahrenhiet\n"
     ]
    }
   ],
   "source": [
    "# python program for converting celsius to fahrenhiet\n",
    "celsius=45\n",
    "fahrenhiet=(celsius*1.8)+32\n",
    "print(f'the temprature at {celsius} celsius is {fahrenhiet} fahrenhiet')"
   ]
  },
  {
   "cell_type": "code",
   "execution_count": 7,
   "metadata": {},
   "outputs": [
    {
     "name": "stdout",
     "output_type": "stream",
     "text": [
      "the value of a after swapping is 110\n",
      "the value of b after swapping is 786\n"
     ]
    }
   ],
   "source": [
    "# python program for swapping two numbers using three variables\n",
    "a=786\n",
    "b=110\n",
    "temp=a\n",
    "a=b\n",
    "b=temp\n",
    "print(f'the value of a after swapping is {a}')\n",
    "print(f'the value of b after swapping is {b}')"
   ]
  },
  {
   "cell_type": "code",
   "execution_count": 8,
   "metadata": {},
   "outputs": [
    {
     "name": "stdout",
     "output_type": "stream",
     "text": [
      "64\n"
     ]
    }
   ],
   "source": [
    "# python program for finding any random number\n",
    "import random\n",
    "print(random.randint(10,100))"
   ]
  },
  {
   "cell_type": "code",
   "execution_count": 9,
   "metadata": {},
   "outputs": [
    {
     "name": "stdout",
     "output_type": "stream",
     "text": [
      "c is the largest number\n"
     ]
    }
   ],
   "source": [
    "# python program for finding largest number in the given numbers\n",
    "a=100\n",
    "b=200\n",
    "c=300\n",
    "if (a>b)and (a>c):\n",
    "    largest=a\n",
    "    print('a is the largest number')\n",
    "elif (b>a)and (b>c):\n",
    "    largest=b\n",
    "    print(\"b is the largest number\")\n",
    "else:\n",
    "    print(\"c is the largest number\")\n",
    "\n"
   ]
  },
  {
   "cell_type": "code",
   "execution_count": 10,
   "metadata": {},
   "outputs": [
    {
     "name": "stdout",
     "output_type": "stream",
     "text": [
      "the year 2000 is a leap year\n"
     ]
    }
   ],
   "source": [
    "#python program to check leap year\n",
    "y=2000\n",
    "if(y%400==0)and (y%100==0):\n",
    "    print(f'the year {y} is a leap year')\n",
    "else:\n",
    "    print('the year is not a leap year')"
   ]
  },
  {
   "cell_type": "code",
   "execution_count": 13,
   "metadata": {},
   "outputs": [
    {
     "name": "stdout",
     "output_type": "stream",
     "text": [
      " the number is positive\n"
     ]
    }
   ],
   "source": [
    "# python program to check the number is positive, nagetive or zer0\n",
    "num=int(input('enter number'))\n",
    "if num>0:\n",
    "    print(' the number is positive')\n",
    "elif num<0:\n",
    "    print('the number is negative')\n",
    "else:\n",
    "    print('the number is zero')"
   ]
  },
  {
   "cell_type": "code",
   "execution_count": 2,
   "metadata": {},
   "outputs": [
    {
     "name": "stdout",
     "output_type": "stream",
     "text": [
      "the number is odd\n"
     ]
    }
   ],
   "source": [
    "#python program to check the number is even or odd\n",
    "num=int(input('enter number'))\n",
    "if num%2==0:\n",
    "    print(\"the number is even\")\n",
    "else:\n",
    "    print(\"the number is odd\")"
   ]
  }
 ],
 "metadata": {
  "kernelspec": {
   "display_name": "Python 3",
   "language": "python",
   "name": "python3"
  },
  "language_info": {
   "codemirror_mode": {
    "name": "ipython",
    "version": 3
   },
   "file_extension": ".py",
   "mimetype": "text/x-python",
   "name": "python",
   "nbconvert_exporter": "python",
   "pygments_lexer": "ipython3",
   "version": "3.12.3"
  }
 },
 "nbformat": 4,
 "nbformat_minor": 2
}
