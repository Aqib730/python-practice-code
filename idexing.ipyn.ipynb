{
 "cells": [
  {
   "cell_type": "code",
   "execution_count": 2,
   "metadata": {},
   "outputs": [],
   "source": [
    "text = \"we are learning python string operations\" #collection/lietable =literate/iteration\n",
    "#indexing\n",
    "#how we can get individaul item/character from the collection /string through indexing \n",
    "#indexing\n",
    "# letter_string = test [-2]\n",
    "# print (letter_string)\n",
    "#slicing\n",
    "#text[smaller_index : greater_index]\n",
    "#sub string = text[5:4]\n",
    "positive_substring = text[23:29]\n",
    "negative_substring = text[-18:-11]\n",
    "#string index = test.index(\"string\")\n",
    "#print(negative_sub_string) "
   ]
  }
 ],
 "metadata": {
  "kernelspec": {
   "display_name": "Python 3",
   "language": "python",
   "name": "python3"
  },
  "language_info": {
   "codemirror_mode": {
    "name": "ipython",
    "version": 3
   },
   "file_extension": ".py",
   "mimetype": "text/x-python",
   "name": "python",
   "nbconvert_exporter": "python",
   "pygments_lexer": "ipython3",
   "version": "3.12.3"
  }
 },
 "nbformat": 4,
 "nbformat_minor": 2
}
