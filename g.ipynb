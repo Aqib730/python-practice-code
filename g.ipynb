{
 "cells": [
  {
   "cell_type": "code",
   "execution_count": 1,
   "metadata": {},
   "outputs": [
    {
     "name": "stdout",
     "output_type": "stream",
     "text": [
      "the square root of the 4 is 2.0\n"
     ]
    }
   ],
   "source": [
    "#python program to find Square root\n",
    "num=int(input(\"Enter num\"))\n",
    "sqrt=num**0.5\n",
    "print(f'the square root of the {num} is {sqrt}')"
   ]
  },
  {
   "cell_type": "code",
   "execution_count": 3,
   "metadata": {},
   "outputs": [
    {
     "name": "stdout",
     "output_type": "stream",
     "text": [
      "the square root of 16 is 4.0\n"
     ]
    }
   ],
   "source": [
    "num=16\n",
    "sqrt=num**0.5\n",
    "print(f'the square root of {num} is {sqrt}')"
   ]
  },
  {
   "cell_type": "code",
   "execution_count": 6,
   "metadata": {},
   "outputs": [
    {
     "name": "stdout",
     "output_type": "stream",
     "text": [
      "the area of the sides4,6 and 8 is 11.61895003862225\n"
     ]
    }
   ],
   "source": [
    "#python program to find area of triangle\n",
    "import math\n",
    "def area_of_the_triangle_sides(a,b,c):\n",
    "    s=(a+b+c)/2\n",
    "    return math.sqrt(s*(s-a)*(s-b)*(s-c))\n",
    "a=4\n",
    "b=6\n",
    "c=8\n",
    "area=area_of_the_triangle_sides(a,b,c)\n",
    "print(f'the area of the sides{a},{b} and {c} is {area}')"
   ]
  },
  {
   "cell_type": "code",
   "execution_count": 10,
   "metadata": {},
   "outputs": [
    {
     "name": "stdout",
     "output_type": "stream",
     "text": [
      "the sum of 12 and 14 is 26\n"
     ]
    }
   ],
   "source": [
    "#python program for adding two numbers\n",
    "a=12\n",
    "b=14\n",
    "sum=a+b\n",
    "print('the sum of {0} and {1} is {2}'.format(a, b, sum))"
   ]
  },
  {
   "cell_type": "code",
   "execution_count": 11,
   "metadata": {},
   "outputs": [
    {
     "name": "stdout",
     "output_type": "stream",
     "text": [
      "helo,world\n"
     ]
    }
   ],
   "source": [
    "#print hello,world\n",
    "print(\"helo,world\")"
   ]
  },
  {
   "cell_type": "code",
   "execution_count": 24,
   "metadata": {},
   "outputs": [
    {
     "name": "stdout",
     "output_type": "stream",
     "text": [
      "the solution of (-3+0j) and (-2+0j) is\n"
     ]
    }
   ],
   "source": [
    "#quadratic equation\n",
    "import cmath\n",
    "a=1\n",
    "b=5\n",
    "c=6\n",
    "d=(b**2)-(4*a*c)\n",
    "sol1=(-b-(cmath.sqrt(d)))/(2*a)\n",
    "sol2=(-b+(cmath.sqrt(d)))/(2*a)\n",
    "print('the solution of {} and {} is'.format(sol1 ,sol2))"
   ]
  },
  {
   "cell_type": "code",
   "execution_count": 20,
   "metadata": {},
   "outputs": [
    {
     "name": "stdout",
     "output_type": "stream",
     "text": [
      "the value of a after swapping: 14\n",
      "the value of b after swapping: 12\n"
     ]
    }
   ],
   "source": [
    "#swap two variables\n",
    "a=12\n",
    "b=14\n",
    "temp=a\n",
    "a=b\n",
    "b=temp\n",
    "print('the value of a after swapping: {}'.format(a))\n",
    "print('the value of b after swapping: {}'.format(b))"
   ]
  },
  {
   "cell_type": "code",
   "execution_count": 21,
   "metadata": {},
   "outputs": [
    {
     "name": "stdout",
     "output_type": "stream",
     "text": [
      "a= 14\n",
      "b= 12\n"
     ]
    }
   ],
   "source": [
    "#swap variables\n",
    "a=12\n",
    "b=14\n",
    "a,b=b,a\n",
    "print('a=',a)\n",
    "print(\"b=\",b)"
   ]
  },
  {
   "cell_type": "code",
   "execution_count": 25,
   "metadata": {},
   "outputs": [
    {
     "name": "stdout",
     "output_type": "stream",
     "text": [
      "6\n"
     ]
    }
   ],
   "source": [
    "#input any random number\n",
    "import random\n",
    "print(random.randint(0,20))"
   ]
  },
  {
   "cell_type": "code",
   "execution_count": 26,
   "metadata": {},
   "outputs": [
    {
     "name": "stdout",
     "output_type": "stream",
     "text": [
      "5 km is equal to the 5000 m\n"
     ]
    }
   ],
   "source": [
    "#conversion of kilometers into meters\n",
    "km=5\n",
    "m=km*1000\n",
    "print(\"{} km is equal to the {} m\".format(km,m))"
   ]
  },
  {
   "cell_type": "code",
   "execution_count": null,
   "metadata": {},
   "outputs": [],
   "source": [
    "#program to input vtable\n",
    "m=1\n",
    "while(\"2\",*)"
   ]
  },
  {
   "cell_type": "code",
   "execution_count": null,
   "metadata": {},
   "outputs": [],
   "source": [
    "fr"
   ]
  }
 ],
 "metadata": {
  "kernelspec": {
   "display_name": "Python 3",
   "language": "python",
   "name": "python3"
  },
  "language_info": {
   "codemirror_mode": {
    "name": "ipython",
    "version": 3
   },
   "file_extension": ".py",
   "mimetype": "text/x-python",
   "name": "python",
   "nbconvert_exporter": "python",
   "pygments_lexer": "ipython3",
   "version": "3.12.3"
  }
 },
 "nbformat": 4,
 "nbformat_minor": 2
}
