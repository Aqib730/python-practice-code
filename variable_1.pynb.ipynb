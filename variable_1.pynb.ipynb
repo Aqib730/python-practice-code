{
 "cells": [
  {
   "cell_type": "code",
   "execution_count": 38,
   "metadata": {},
   "outputs": [
    {
     "name": "stdout",
     "output_type": "stream",
     "text": [
      "the result of var1+var2 is 42\n"
     ]
    }
   ],
   "source": [
    "\n",
    "#variables\n",
    "var1=12\n",
    "var2=30\n",
    "sum=var1+var2\n",
    "print(\"the result of var1+var2 is\",sum)\n",
    "\n",
    "\n"
   ]
  },
  {
   "cell_type": "code",
   "execution_count": 39,
   "metadata": {},
   "outputs": [
    {
     "name": "stdout",
     "output_type": "stream",
     "text": [
      "6\n",
      "aqib\n"
     ]
    }
   ],
   "source": [
    "x=6\n",
    "y=\"aqib\"\n",
    "print(x)\n",
    "print(y)\n"
   ]
  },
  {
   "cell_type": "code",
   "execution_count": 40,
   "metadata": {},
   "outputs": [],
   "source": [
    "x=str(3) # x will be '3'\n",
    "y=int(3) # y will be 3\n",
    "z = float(3) # z will be 3.0"
   ]
  },
  {
   "cell_type": "code",
   "execution_count": 41,
   "metadata": {},
   "outputs": [
    {
     "name": "stdout",
     "output_type": "stream",
     "text": [
      "Asif\n",
      "Asif\n",
      "Asif\n",
      "Asif\n",
      "Asif\n",
      "Asif\n"
     ]
    }
   ],
   "source": [
    "myvar = \"Asif\"\n",
    "my_var = \"Asif\"\n",
    "_my_var = \"Asif\"\n",
    "myVar = \"Asif\"\n",
    "MYVAR = \"Asif\"\n",
    "myvar2 = \"Asif\"\n",
    "\n",
    "\n",
    "print(myvar)\n",
    "print(my_var)\n",
    "print(_my_var)\n",
    "print(myVar)\n",
    "print(MYVAR)\n",
    "print(myvar2)"
   ]
  },
  {
   "cell_type": "code",
   "execution_count": 42,
   "metadata": {},
   "outputs": [
    {
     "name": "stdout",
     "output_type": "stream",
     "text": [
      "apple\n",
      "Banana\n",
      "mangoes\n"
     ]
    }
   ],
   "source": [
    "x, y, z = \"apple\", \"Banana\", \"mangoes   M\"\n",
    "\n",
    "print(x)\n",
    "print(y)\n",
    "print(z)"
   ]
  }
 ],
 "metadata": {
  "kernelspec": {
   "display_name": "Python 3",
   "language": "python",
   "name": "python3"
  },
  "language_info": {
   "codemirror_mode": {
    "name": "ipython",
    "version": 3
   },
   "file_extension": ".py",
   "mimetype": "text/x-python",
   "name": "python",
   "nbconvert_exporter": "python",
   "pygments_lexer": "ipython3",
   "version": "3.12.3"
  }
 },
 "nbformat": 4,
 "nbformat_minor": 2
}
