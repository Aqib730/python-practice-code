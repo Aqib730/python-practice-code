{
  "cells": [
    {
      "cell_type": "code",
      "execution_count": 2,
      "metadata": {
        "id": "tcRaZFWztw0Y",
        "outputId": "ace86b9c-22c6-42a8-e269-4915e1f4ae71"
      },
      "outputs": [
        {
          "name": "stdout",
          "output_type": "stream",
          "text": [
            "this line is not part of if\n"
          ]
        }
      ],
      "source": [
        "#conditional statement\n",
        "# if\n",
        "# if else\n",
        "# if elif else\n",
        "\n",
        "#syntax\n",
        "\n",
        "if 3 > 30:\n",
        "    print(\"we are in the body  of the if statement\")\n",
        "    print(\"???????\")\n",
        "    print(\"if simple having one block\")\n",
        "\n",
        "print(\"this line is not part of if\")\n",
        "\n",
        "\n",
        "\n",
        "\n",
        "\n",
        "\n",
        "\n",
        "\n",
        "\n",
        "\n"
      ]
    },
    {
      "cell_type": "code",
      "execution_count": 4,
      "metadata": {
        "id": "D2mx-sMptw0e",
        "outputId": "d7a8ec14-9608-4758-c8e7-b04d27e59b88"
      },
      "outputs": [
        {
          "ename": "IndentationError",
          "evalue": "unindent does not match any outer indentation level (<string>, line 7)",
          "output_type": "error",
          "traceback": [
            "\u001b[1;36m  File \u001b[1;32m<string>:7\u001b[1;36m\u001b[0m\n\u001b[1;33m    else:\u001b[0m\n\u001b[1;37m         ^\u001b[0m\n\u001b[1;31mIndentationError\u001b[0m\u001b[1;31m:\u001b[0m unindent does not match any outer indentation level\n"
          ]
        }
      ],
      "source": [
        "if 14 < 13:\n",
        "    print(\"*******this is sum**********\")\n",
        "    a = 12\n",
        "    b = 3\n",
        "    sum = a + b\n",
        "    print(\"the answer of sum:\", sum)\n",
        " else:\n",
        "    print(\"*******this is minus**********\")\n",
        "    a = 12\n",
        "    b = 3\n",
        "    m = a - b\n",
        "    print(\"the answer of sum:\", m)"
      ]
    },
    {
      "cell_type": "code",
      "execution_count": null,
      "metadata": {
        "id": "YMNwZmtLtw0e"
      },
      "outputs": [],
      "source": [
        "#functions\n",
        "#user defined function\n",
        "## without parameters, no input no return\n",
        "# function defination\n",
        "def sum():\n",
        "    a = 12\n",
        "    b = 23\n",
        "    c = a + b\n",
        "    print(\"the sum of a and b is :\", c)"
      ]
    },
    {
      "cell_type": "code",
      "execution_count": null,
      "metadata": {
        "id": "FLh-PBfMtw0f"
      },
      "outputs": [],
      "source": [
        "#functions\n",
        "#user defined function\n",
        "# with parameters\n",
        "# function defination\n",
        "def sum(a,b):\n",
        "    c = a + b\n",
        "    print(\"the sum of a and b is :\", c)"
      ]
    },
    {
      "cell_type": "code",
      "execution_count": null,
      "metadata": {
        "id": "kzro4gr9tw0f",
        "outputId": "edbda5fa-3885-4f69-ca50-4854dbbce687"
      },
      "outputs": [
        {
          "name": "stdout",
          "output_type": "stream",
          "text": [
            "the sum of a and b is : 35\n"
          ]
        }
      ],
      "source": [
        "sum()"
      ]
    },
    {
      "cell_type": "code",
      "execution_count": null,
      "metadata": {
        "id": "JMNrOsjztw0g",
        "outputId": "94bf622c-0889-41bd-e8f0-48ee99d74748"
      },
      "outputs": [
        {
          "name": "stdout",
          "output_type": "stream",
          "text": [
            "the sum of a and b is : 40\n"
          ]
        }
      ],
      "source": [
        "# function call\n",
        "sum(10,30)"
      ]
    },
    {
      "cell_type": "code",
      "execution_count": null,
      "metadata": {
        "id": "z98hVEgKtw0g"
      },
      "outputs": [],
      "source": [
        "def even_odd(n):\n",
        "    if n%2 == 0:\n",
        "        print(n, \"is even\")\n",
        "    else:\n",
        "        print(n, \"is Odd\")"
      ]
    },
    {
      "cell_type": "code",
      "execution_count": null,
      "metadata": {
        "id": "p4P2mzwBtw0h",
        "outputId": "b5e02106-83f8-4a54-bf29-8a3c42ad3550"
      },
      "outputs": [
        {
          "name": "stdout",
          "output_type": "stream",
          "text": [
            "1 is Odd\n",
            "2 is even\n",
            "3 is Odd\n",
            "4 is even\n",
            "5 is Odd\n",
            "6 is even\n",
            "7 is Odd\n",
            "8 is even\n",
            "9 is Odd\n",
            "10 is even\n",
            "11 is Odd\n",
            "12 is even\n",
            "13 is Odd\n",
            "14 is even\n",
            "15 is Odd\n",
            "16 is even\n",
            "17 is Odd\n",
            "18 is even\n",
            "19 is Odd\n",
            "20 is even\n",
            "21 is Odd\n",
            "22 is even\n",
            "23 is Odd\n",
            "24 is even\n",
            "25 is Odd\n",
            "26 is even\n",
            "27 is Odd\n",
            "28 is even\n",
            "29 is Odd\n",
            "30 is even\n",
            "31 is Odd\n",
            "32 is even\n",
            "33 is Odd\n",
            "34 is even\n",
            "35 is Odd\n",
            "36 is even\n",
            "37 is Odd\n",
            "38 is even\n",
            "39 is Odd\n",
            "40 is even\n",
            "41 is Odd\n",
            "42 is even\n",
            "43 is Odd\n",
            "44 is even\n",
            "45 is Odd\n",
            "46 is even\n",
            "47 is Odd\n",
            "48 is even\n",
            "49 is Odd\n",
            "50 is even\n"
          ]
        }
      ],
      "source": [
        "# find the number is even or odd from 1 to 50.\n",
        "for v in range(1,51):\n",
        "    even_odd(v)"
      ]
    },
    {
      "cell_type": "code",
      "execution_count": null,
      "metadata": {
        "id": "im9tChXstw0h"
      },
      "outputs": [],
      "source": [
        "def even_odd(n):\n",
        "    if n%2 == 0:\n",
        "        return \"even\"\n",
        "    else:\n",
        "        return \"Odd\""
      ]
    },
    {
      "cell_type": "code",
      "execution_count": null,
      "metadata": {
        "id": "1ui1uUGrtw0i",
        "outputId": "1d8841d8-a050-41a5-c149-747ef89e62a0"
      },
      "outputs": [
        {
          "name": "stdout",
          "output_type": "stream",
          "text": [
            "Odd\n"
          ]
        }
      ],
      "source": [
        "ans = even_odd(3)\n",
        "print(ans)"
      ]
    },
    {
      "cell_type": "code",
      "execution_count": null,
      "metadata": {},
      "outputs": [],
      "source": [
        "def my_function():\n",
        "  print(\"Hello from a function\")"
      ]
    },
    {
      "cell_type": "code",
      "execution_count": null,
      "metadata": {},
      "outputs": [],
      "source": [
        "def my_function():\n",
        "  print(\"Hello from a function\")\n",
        "\n",
        "my_function()"
      ]
    },
    {
      "cell_type": "code",
      "execution_count": null,
      "metadata": {},
      "outputs": [],
      "source": [
        "def my_function(fname):\n",
        "  print(fname + \" Refsnes\")\n",
        "\n",
        "my_function(\"Emil\")\n",
        "my_function(\"Tobias\")\n",
        "my_function(\"Linus\")"
      ]
    },
    {
      "cell_type": "code",
      "execution_count": null,
      "metadata": {},
      "outputs": [],
      "source": [
        "def my_function(fname, lname):\n",
        "  print(fname + \" \" + lname)\n",
        "\n",
        "my_function(\"Emil\", \"Refsnes\")"
      ]
    },
    {
      "cell_type": "code",
      "execution_count": null,
      "metadata": {},
      "outputs": [],
      "source": [
        "def my_function(fname, lname):\n",
        "  print(fname + \" \" + lname)\n",
        "\n",
        "my_function(\"Emil\")"
      ]
    },
    {
      "cell_type": "code",
      "execution_count": null,
      "metadata": {},
      "outputs": [],
      "source": [
        "def my_function(*kids):\n",
        "  print(\"The youngest child is \" + kids[2])\n",
        "\n",
        "my_function(\"Emil\", \"Tobias\", \"Linus\")"
      ]
    },
    {
      "cell_type": "code",
      "execution_count": null,
      "metadata": {},
      "outputs": [],
      "source": [
        "def my_function(child3, child2, child1):\n",
        "  print(\"The youngest child is \" + child3)\n",
        "\n",
        "my_function(child1 = \"Emil\", child2 = \"Tobias\", child3 = \"Linus\")"
      ]
    },
    {
      "cell_type": "code",
      "execution_count": null,
      "metadata": {},
      "outputs": [],
      "source": [
        "def my_function(**kid):\n",
        "  print(\"His last name is \" + kid[\"lname\"])\n",
        "\n",
        "my_function(fname = \"Tobias\", lname = \"Refsnes\")"
      ]
    },
    {
      "cell_type": "code",
      "execution_count": null,
      "metadata": {},
      "outputs": [],
      "source": [
        "def my_function(country = \"Norway\"):\n",
        "  print(\"I am from \" + country)\n",
        "\n",
        "my_function(\"Sweden\")\n",
        "my_function(\"India\")\n",
        "my_function()\n",
        "my_function(\"Brazil\")"
      ]
    },
    {
      "cell_type": "code",
      "execution_count": null,
      "metadata": {},
      "outputs": [],
      "source": [
        "  for x in food:\n",
        "    print(x)\n",
        "\n",
        "fruits = [\"apple\", \"banana\", \"cherry\"]\n",
        "\n",
        "my_function(fruits)"
      ]
    },
    {
      "cell_type": "code",
      "execution_count": null,
      "metadata": {},
      "outputs": [],
      "source": [
        "def my_function(x):\n",
        "  return 5 * x\n",
        "\n",
        "print(my_function(3))\n",
        "print(my_function(5))\n",
        "print(my_function(9))"
      ]
    },
    {
      "cell_type": "code",
      "execution_count": null,
      "metadata": {},
      "outputs": [],
      "source": [
        "def myfunction():\n",
        "  pass"
      ]
    },
    {
      "cell_type": "code",
      "execution_count": null,
      "metadata": {},
      "outputs": [],
      "source": [
        "def my_function(x, /):\n",
        "  print(x)\n",
        "\n",
        "my_function(3)"
      ]
    },
    {
      "cell_type": "code",
      "execution_count": 1,
      "metadata": {},
      "outputs": [],
      "source": [
        "def my_function(x):\n",
        "    prinit(x)\n",
        "    my_function(x-3)"
      ]
    },
    {
      "cell_type": "code",
      "execution_count": null,
      "metadata": {},
      "outputs": [],
      "source": [
        "def my_function(x, /):\n",
        "  print(x)\n",
        "\n",
        "my_function(x = 3)"
      ]
    },
    {
      "cell_type": "code",
      "execution_count": null,
      "metadata": {},
      "outputs": [],
      "source": [
        "def my_function(*, x):\n",
        "  print(x)\n",
        "\n",
        "my_function(x = 3)"
      ]
    },
    {
      "cell_type": "code",
      "execution_count": null,
      "metadata": {},
      "outputs": [],
      "source": [
        "def my_function(x):\n",
        "  print(x)\n",
        "\n",
        "my_function(3)"
      ]
    },
    {
      "cell_type": "code",
      "execution_count": null,
      "metadata": {},
      "outputs": [],
      "source": [
        "def my_function(*, x):\n",
        "  print(x)\n",
        "\n",
        "my_function(3)"
      ]
    },
    {
      "cell_type": "code",
      "execution_count": null,
      "metadata": {},
      "outputs": [],
      "source": [
        "def my_function(a, b, /, *, c, d):\n",
        "  print(a + b + c + d)\n",
        "\n",
        "my_function(5, 6, c = 7, d = 8)"
      ]
    },
    {
      "cell_type": "code",
      "execution_count": null,
      "metadata": {},
      "outputs": [],
      "source": [
        "def tri_recursion(k):\n",
        "  if(k > 0):\n",
        "    result = k + tri_recursion(k - 1)\n",
        "    print(result)\n",
        "  else:\n",
        "    result = 0\n",
        "  return result\n",
        "\n",
        "print(\"\\n\\nRecursion Example Results\")\n",
        "tri_recursion(6)"
      ]
    },
    {
      "cell_type": "code",
      "execution_count": null,
      "metadata": {
        "id": "38riU_uWtw0i",
        "outputId": "d5292464-8434-4f0e-9355-cb60243c81fb"
      },
      "outputs": [
        {
          "name": "stdout",
          "output_type": "stream",
          "text": [
            "Odd\n"
          ]
        }
      ],
      "source": [
        "print(ans)"
      ]
    }
  ],
  "metadata": {
    "colab": {
      "provenance": []
    },
    "kernelspec": {
      "display_name": "Python 3",
      "language": "python",
      "name": "python3"
    },
    "language_info": {
      "codemirror_mode": {
        "name": "ipython",
        "version": 3
      },
      "file_extension": ".py",
      "mimetype": "text/x-python",
      "name": "python",
      "nbconvert_exporter": "python",
      "pygments_lexer": "ipython3",
      "version": "3.12.3"
    }
  },
  "nbformat": 4,
  "nbformat_minor": 0
}
